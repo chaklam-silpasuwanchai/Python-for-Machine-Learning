{
 "cells": [
  {
   "cell_type": "markdown",
   "metadata": {},
   "source": [
    "# Recurrent Neural Network\n",
    " \n",
    "Up to now we've used neural networks to classify static images. Now we will be studying <a href='https://en.wikipedia.org/wiki/Recurrent_neural_network'>Recurrent Neural Networks</a> (RNNs) which is specialized for time series data or text data, where previous affects the next.\n",
    "\n",
    "The basic model of a single RNN unit is represented as:\n",
    "\n",
    "$$ \\mathbf{h_t} = f(\\mathbf{W}_{x}\\mathbf{x}_t + \\mathbf{W}_{h}\\mathbf{h}_{t-1} + \\mathbf{b}) $$\n",
    "\n",
    "Where:\n",
    "- $h$ is the hidden size, and\n",
    "- $\\mathbf{h}_t$ $\\in (h, )$ is the hidden state at time $t$ ,\n",
    "- $\\mathbf{x}_t$ $\\in (n, )$ is the input at time $t$,\n",
    "- $\\mathbf{W}_{x}$ $\\in (h, n)$ is the weight matrix for inputs to hidden layer,\n",
    "- $\\mathbf{W}_{h}$ $\\in (h, h)$ is the weight matrix for hidden layer to hidden layer,\n",
    "- $\\mathbf{b}$ $\\in (h, )$ is the hidden bias ,\n",
    "- $f$ is the activation function.\n",
    "\n",
    "## Predict Apple Stock using LSTM\n",
    "\n",
    "Here we will be using 30 days in the past to predict the next 1 day.\n",
    "\n",
    "To do so, we will split the last 15 days as test set, where we will use our model to slowly predict day by day, until we reached the 15 days."
   ]
  },
  {
   "cell_type": "code",
   "execution_count": 45,
   "metadata": {},
   "outputs": [],
   "source": [
    "import torch\n",
    "import torch.nn as nn\n",
    "import numpy as np\n",
    "import pandas as pd\n",
    "import matplotlib.pyplot as plt"
   ]
  },
  {
   "cell_type": "markdown",
   "metadata": {},
   "source": [
    "## 1. Load data"
   ]
  },
  {
   "cell_type": "code",
   "execution_count": 46,
   "metadata": {},
   "outputs": [
    {
     "data": {
      "application/vnd.microsoft.datawrangler.viewer.v0+json": {
       "columns": [
        {
         "name": "index",
         "rawType": "int64",
         "type": "integer"
        },
        {
         "name": "Date",
         "rawType": "object",
         "type": "string"
        },
        {
         "name": "Open",
         "rawType": "float64",
         "type": "float"
        },
        {
         "name": "High",
         "rawType": "float64",
         "type": "float"
        },
        {
         "name": "Low",
         "rawType": "float64",
         "type": "float"
        },
        {
         "name": "Close",
         "rawType": "float64",
         "type": "float"
        },
        {
         "name": "Volume",
         "rawType": "int64",
         "type": "integer"
        },
        {
         "name": "Adj Close",
         "rawType": "float64",
         "type": "float"
        }
       ],
       "ref": "04be77f3-f9cf-48b9-9d12-7dce3934aea8",
       "rows": [
        [
         "0",
         "2014-07-08",
         "96.27",
         "96.8",
         "93.92",
         "95.35",
         "65130000",
         "95.35"
        ],
        [
         "1",
         "2014-07-07",
         "94.14",
         "95.99",
         "94.1",
         "95.97",
         "56305400",
         "95.97"
        ],
        [
         "2",
         "2014-07-03",
         "93.67",
         "94.1",
         "93.2",
         "94.03",
         "22891800",
         "94.03"
        ],
        [
         "3",
         "2014-07-02",
         "93.87",
         "94.06",
         "93.09",
         "93.48",
         "28420900",
         "93.48"
        ],
        [
         "4",
         "2014-07-01",
         "93.52",
         "94.07",
         "93.13",
         "93.52",
         "38170200",
         "93.52"
        ]
       ],
       "shape": {
        "columns": 7,
        "rows": 5
       }
      },
      "text/html": [
       "<div>\n",
       "<style scoped>\n",
       "    .dataframe tbody tr th:only-of-type {\n",
       "        vertical-align: middle;\n",
       "    }\n",
       "\n",
       "    .dataframe tbody tr th {\n",
       "        vertical-align: top;\n",
       "    }\n",
       "\n",
       "    .dataframe thead th {\n",
       "        text-align: right;\n",
       "    }\n",
       "</style>\n",
       "<table border=\"1\" class=\"dataframe\">\n",
       "  <thead>\n",
       "    <tr style=\"text-align: right;\">\n",
       "      <th></th>\n",
       "      <th>Date</th>\n",
       "      <th>Open</th>\n",
       "      <th>High</th>\n",
       "      <th>Low</th>\n",
       "      <th>Close</th>\n",
       "      <th>Volume</th>\n",
       "      <th>Adj Close</th>\n",
       "    </tr>\n",
       "  </thead>\n",
       "  <tbody>\n",
       "    <tr>\n",
       "      <th>0</th>\n",
       "      <td>2014-07-08</td>\n",
       "      <td>96.27</td>\n",
       "      <td>96.80</td>\n",
       "      <td>93.92</td>\n",
       "      <td>95.35</td>\n",
       "      <td>65130000</td>\n",
       "      <td>95.35</td>\n",
       "    </tr>\n",
       "    <tr>\n",
       "      <th>1</th>\n",
       "      <td>2014-07-07</td>\n",
       "      <td>94.14</td>\n",
       "      <td>95.99</td>\n",
       "      <td>94.10</td>\n",
       "      <td>95.97</td>\n",
       "      <td>56305400</td>\n",
       "      <td>95.97</td>\n",
       "    </tr>\n",
       "    <tr>\n",
       "      <th>2</th>\n",
       "      <td>2014-07-03</td>\n",
       "      <td>93.67</td>\n",
       "      <td>94.10</td>\n",
       "      <td>93.20</td>\n",
       "      <td>94.03</td>\n",
       "      <td>22891800</td>\n",
       "      <td>94.03</td>\n",
       "    </tr>\n",
       "    <tr>\n",
       "      <th>3</th>\n",
       "      <td>2014-07-02</td>\n",
       "      <td>93.87</td>\n",
       "      <td>94.06</td>\n",
       "      <td>93.09</td>\n",
       "      <td>93.48</td>\n",
       "      <td>28420900</td>\n",
       "      <td>93.48</td>\n",
       "    </tr>\n",
       "    <tr>\n",
       "      <th>4</th>\n",
       "      <td>2014-07-01</td>\n",
       "      <td>93.52</td>\n",
       "      <td>94.07</td>\n",
       "      <td>93.13</td>\n",
       "      <td>93.52</td>\n",
       "      <td>38170200</td>\n",
       "      <td>93.52</td>\n",
       "    </tr>\n",
       "  </tbody>\n",
       "</table>\n",
       "</div>"
      ],
      "text/plain": [
       "         Date   Open   High    Low  Close    Volume  Adj Close\n",
       "0  2014-07-08  96.27  96.80  93.92  95.35  65130000      95.35\n",
       "1  2014-07-07  94.14  95.99  94.10  95.97  56305400      95.97\n",
       "2  2014-07-03  93.67  94.10  93.20  94.03  22891800      94.03\n",
       "3  2014-07-02  93.87  94.06  93.09  93.48  28420900      93.48\n",
       "4  2014-07-01  93.52  94.07  93.13  93.52  38170200      93.52"
      ]
     },
     "execution_count": 46,
     "metadata": {},
     "output_type": "execute_result"
    }
   ],
   "source": [
    "df = pd.read_csv(\"data/appl_1980_2014.csv\")\n",
    "df.head()"
   ]
  },
  {
   "cell_type": "code",
   "execution_count": 47,
   "metadata": {},
   "outputs": [
    {
     "name": "stdout",
     "output_type": "stream",
     "text": [
      "<class 'pandas.core.frame.DataFrame'>\n",
      "RangeIndex: 8465 entries, 0 to 8464\n",
      "Data columns (total 7 columns):\n",
      " #   Column     Non-Null Count  Dtype         \n",
      "---  ------     --------------  -----         \n",
      " 0   Date       8465 non-null   datetime64[ns]\n",
      " 1   Open       8465 non-null   float64       \n",
      " 2   High       8465 non-null   float64       \n",
      " 3   Low        8465 non-null   float64       \n",
      " 4   Close      8465 non-null   float64       \n",
      " 5   Volume     8465 non-null   int64         \n",
      " 6   Adj Close  8465 non-null   float64       \n",
      "dtypes: datetime64[ns](1), float64(5), int64(1)\n",
      "memory usage: 463.1 KB\n"
     ]
    }
   ],
   "source": [
    "#make sure your data is of actually date format\n",
    "# df.info()\n",
    "df.Date = pd.to_datetime(df.Date)\n",
    "df.info()"
   ]
  },
  {
   "cell_type": "markdown",
   "metadata": {},
   "source": [
    "### Choose the timeframe"
   ]
  },
  {
   "cell_type": "code",
   "execution_count": 48,
   "metadata": {},
   "outputs": [
    {
     "data": {
      "text/plain": [
       "array([2013, 2012, 2011, 2010], dtype=int32)"
      ]
     },
     "execution_count": 48,
     "metadata": {},
     "output_type": "execute_result"
    }
   ],
   "source": [
    "# df.Date.dt.year.unique()\n",
    "cond = (df.Date.dt.year > 2009) & (df.Date.dt.year < 2014)\n",
    "df = df[cond]\n",
    "df.Date.dt.year.unique()"
   ]
  },
  {
   "cell_type": "markdown",
   "metadata": {},
   "source": [
    "### Set data as index"
   ]
  },
  {
   "cell_type": "code",
   "execution_count": 49,
   "metadata": {},
   "outputs": [
    {
     "data": {
      "text/plain": [
       "DatetimeIndex(['2013-12-31', '2013-12-30', '2013-12-27', '2013-12-26',\n",
       "               '2013-12-24', '2013-12-23', '2013-12-20', '2013-12-19',\n",
       "               '2013-12-18', '2013-12-17',\n",
       "               ...\n",
       "               '2010-01-15', '2010-01-14', '2010-01-13', '2010-01-12',\n",
       "               '2010-01-11', '2010-01-08', '2010-01-07', '2010-01-06',\n",
       "               '2010-01-05', '2010-01-04'],\n",
       "              dtype='datetime64[ns]', name='Date', length=1006, freq=None)"
      ]
     },
     "execution_count": 49,
     "metadata": {},
     "output_type": "execute_result"
    }
   ],
   "source": [
    "df = df.set_index('Date')\n",
    "df.index"
   ]
  },
  {
   "cell_type": "code",
   "execution_count": 50,
   "metadata": {},
   "outputs": [],
   "source": [
    "df.sort_index(ascending=True, inplace=True)"
   ]
  },
  {
   "cell_type": "code",
   "execution_count": 51,
   "metadata": {},
   "outputs": [
    {
     "data": {
      "application/vnd.microsoft.datawrangler.viewer.v0+json": {
       "columns": [
        {
         "name": "Date",
         "rawType": "datetime64[ns]",
         "type": "datetime"
        },
        {
         "name": "Open",
         "rawType": "float64",
         "type": "float"
        },
        {
         "name": "High",
         "rawType": "float64",
         "type": "float"
        },
        {
         "name": "Low",
         "rawType": "float64",
         "type": "float"
        },
        {
         "name": "Close",
         "rawType": "float64",
         "type": "float"
        },
        {
         "name": "Volume",
         "rawType": "int64",
         "type": "integer"
        },
        {
         "name": "Adj Close",
         "rawType": "float64",
         "type": "float"
        }
       ],
       "ref": "e5477378-47b7-43a0-805e-d1dbe777f3b7",
       "rows": [
        [
         "2010-01-04 00:00:00",
         "213.43",
         "214.5",
         "212.38",
         "214.01",
         "123432400",
         "29.22"
        ],
        [
         "2010-01-05 00:00:00",
         "214.6",
         "215.59",
         "213.25",
         "214.38",
         "150476200",
         "29.27"
        ],
        [
         "2010-01-06 00:00:00",
         "214.38",
         "215.23",
         "210.75",
         "210.97",
         "138040000",
         "28.81"
        ],
        [
         "2010-01-07 00:00:00",
         "211.75",
         "212.0",
         "209.05",
         "210.58",
         "119282800",
         "28.75"
        ],
        [
         "2010-01-08 00:00:00",
         "210.3",
         "212.0",
         "209.06",
         "211.98",
         "111902700",
         "28.94"
        ]
       ],
       "shape": {
        "columns": 6,
        "rows": 5
       }
      },
      "text/html": [
       "<div>\n",
       "<style scoped>\n",
       "    .dataframe tbody tr th:only-of-type {\n",
       "        vertical-align: middle;\n",
       "    }\n",
       "\n",
       "    .dataframe tbody tr th {\n",
       "        vertical-align: top;\n",
       "    }\n",
       "\n",
       "    .dataframe thead th {\n",
       "        text-align: right;\n",
       "    }\n",
       "</style>\n",
       "<table border=\"1\" class=\"dataframe\">\n",
       "  <thead>\n",
       "    <tr style=\"text-align: right;\">\n",
       "      <th></th>\n",
       "      <th>Open</th>\n",
       "      <th>High</th>\n",
       "      <th>Low</th>\n",
       "      <th>Close</th>\n",
       "      <th>Volume</th>\n",
       "      <th>Adj Close</th>\n",
       "    </tr>\n",
       "    <tr>\n",
       "      <th>Date</th>\n",
       "      <th></th>\n",
       "      <th></th>\n",
       "      <th></th>\n",
       "      <th></th>\n",
       "      <th></th>\n",
       "      <th></th>\n",
       "    </tr>\n",
       "  </thead>\n",
       "  <tbody>\n",
       "    <tr>\n",
       "      <th>2010-01-04</th>\n",
       "      <td>213.43</td>\n",
       "      <td>214.50</td>\n",
       "      <td>212.38</td>\n",
       "      <td>214.01</td>\n",
       "      <td>123432400</td>\n",
       "      <td>29.22</td>\n",
       "    </tr>\n",
       "    <tr>\n",
       "      <th>2010-01-05</th>\n",
       "      <td>214.60</td>\n",
       "      <td>215.59</td>\n",
       "      <td>213.25</td>\n",
       "      <td>214.38</td>\n",
       "      <td>150476200</td>\n",
       "      <td>29.27</td>\n",
       "    </tr>\n",
       "    <tr>\n",
       "      <th>2010-01-06</th>\n",
       "      <td>214.38</td>\n",
       "      <td>215.23</td>\n",
       "      <td>210.75</td>\n",
       "      <td>210.97</td>\n",
       "      <td>138040000</td>\n",
       "      <td>28.81</td>\n",
       "    </tr>\n",
       "    <tr>\n",
       "      <th>2010-01-07</th>\n",
       "      <td>211.75</td>\n",
       "      <td>212.00</td>\n",
       "      <td>209.05</td>\n",
       "      <td>210.58</td>\n",
       "      <td>119282800</td>\n",
       "      <td>28.75</td>\n",
       "    </tr>\n",
       "    <tr>\n",
       "      <th>2010-01-08</th>\n",
       "      <td>210.30</td>\n",
       "      <td>212.00</td>\n",
       "      <td>209.06</td>\n",
       "      <td>211.98</td>\n",
       "      <td>111902700</td>\n",
       "      <td>28.94</td>\n",
       "    </tr>\n",
       "  </tbody>\n",
       "</table>\n",
       "</div>"
      ],
      "text/plain": [
       "              Open    High     Low   Close     Volume  Adj Close\n",
       "Date                                                            \n",
       "2010-01-04  213.43  214.50  212.38  214.01  123432400      29.22\n",
       "2010-01-05  214.60  215.59  213.25  214.38  150476200      29.27\n",
       "2010-01-06  214.38  215.23  210.75  210.97  138040000      28.81\n",
       "2010-01-07  211.75  212.00  209.05  210.58  119282800      28.75\n",
       "2010-01-08  210.30  212.00  209.06  211.98  111902700      28.94"
      ]
     },
     "execution_count": 51,
     "metadata": {},
     "output_type": "execute_result"
    }
   ],
   "source": [
    "df.head()"
   ]
  },
  {
   "cell_type": "markdown",
   "metadata": {},
   "source": [
    "## 2. EDA"
   ]
  },
  {
   "cell_type": "code",
   "execution_count": 52,
   "metadata": {},
   "outputs": [
    {
     "data": {
      "text/plain": [
       "[<matplotlib.lines.Line2D at 0x156a822d0>]"
      ]
     },
     "execution_count": 52,
     "metadata": {},
     "output_type": "execute_result"
    },
    {
     "data": {
      "image/png": "[encoded data removed]",
      "text/plain": [
       "<Figure size 1200x400 with 1 Axes>"
      ]
     },
     "metadata": {},
     "output_type": "display_data"
    }
   ],
   "source": [
    "#plot the apple stocks\n",
    "plt.figure(figsize=(12, 4))\n",
    "plt.title('Apple Stock Prices (2010 - 2013)')\n",
    "plt.ylabel('Close')\n",
    "plt.grid()\n",
    "plt.plot(df.Close)"
   ]
  },
  {
   "cell_type": "markdown",
   "metadata": {},
   "source": [
    "## 3. Train test split\n",
    "\n",
    "Here we will use the last 30 days of the training set to predict the next day.  Then we will autoregressively fill the next days until we reached 15 days."
   ]
  },
  {
   "cell_type": "code",
   "execution_count": 53,
   "metadata": {},
   "outputs": [],
   "source": [
    "y = df['Close'].values.astype('float')\n",
    "train_set = y[:-15]  #takes everything except the last 15 elements\n",
    "test_set  = y[-15:]"
   ]
  },
  {
   "cell_type": "code",
   "execution_count": 54,
   "metadata": {},
   "outputs": [
    {
     "data": {
      "text/plain": [
       "numpy.ndarray"
      ]
     },
     "execution_count": 54,
     "metadata": {},
     "output_type": "execute_result"
    }
   ],
   "source": [
    "type(train_set)"
   ]
  },
  {
   "cell_type": "markdown",
   "metadata": {},
   "source": [
    "## 4. Normalization\n",
    "\n",
    "We don't do standardization because mean is wrong.  It's better to normalize it into range of -1 and 1."
   ]
  },
  {
   "cell_type": "code",
   "execution_count": 55,
   "metadata": {},
   "outputs": [
    {
     "data": {
      "text/plain": [
       "(991,)"
      ]
     },
     "execution_count": 55,
     "metadata": {},
     "output_type": "execute_result"
    }
   ],
   "source": [
    "train_set.shape"
   ]
  },
  {
   "cell_type": "code",
   "execution_count": 56,
   "metadata": {},
   "outputs": [],
   "source": [
    "from sklearn.preprocessing import MinMaxScaler\n",
    "\n",
    "scaler = MinMaxScaler(feature_range=(-1, 1))\n",
    "\n",
    "train_set_norm = scaler.fit_transform(train_set.reshape(-1, 1))"
   ]
  },
  {
   "cell_type": "code",
   "execution_count": 57,
   "metadata": {},
   "outputs": [
    {
     "data": {
      "text/plain": [
       "(np.float64(-0.9999999999999999), np.float64(1.0))"
      ]
     },
     "execution_count": 57,
     "metadata": {},
     "output_type": "execute_result"
    }
   ],
   "source": [
    "train_set_norm.min(), train_set_norm.max()"
   ]
  },
  {
   "cell_type": "markdown",
   "metadata": {},
   "source": [
    "## 5. Prepare train set\n",
    "\n",
    "When working with LSTM models, we start by dividing the training sequence into a series of overlapping \"windows\". Each window consists of a connected string of samples. The label used for comparison is equal to the next value in the sequence. In this way our network learns what value should follow a given pattern of preceding values. Note: although the LSTM layer produces a prediction for each sample in the window, we only care about the last one.\n",
    "\n",
    "For example, say we have a series of 15 records, and a window size of 5. We feed $[x_1,..,x_5]$ into the model, and compare the prediction to $x_6$. Then we backprop, update parameters, and feed $[x_2,..,x_6]$ into the model. We compare the new output to $x_7$ and so forth up to $[x_{10},..,x_{14}]$.\n",
    "\n",
    "To simplify matters, we'll define a function called `create_data` that builds a list of `(seq, label)` tuples. Windows overlap, so the first tuple might contain $([x_1,..,x_5],[x_6])$, the second would have $([x_2,..,x_6],[x_7])$, etc. \n",
    "\n",
    "Here $k$ is the width of the window. Due to the overlap, we'll have a total number of <tt>(seq, label)</tt> tuples equal to $\\textrm{len}(series)-k$"
   ]
  },
  {
   "cell_type": "code",
   "execution_count": 58,
   "metadata": {},
   "outputs": [],
   "source": [
    "#convert np to tensor\n",
    "train_set_norm = torch.FloatTensor(train_set_norm).view(-1)\n",
    "train_set_norm.shape\n",
    "\n",
    "#define window size\n",
    "ws = 30 #use 30 days in the past to predict the next day\n",
    "\n",
    "#define function to create training set (ws days -> 1 day)\n",
    "#sample 0:  Day 1 to Day 30 -> Day 31\n",
    "#sample 1:  Day 2 to Day 31 -> Day 32\n",
    "#...\n",
    "def create_data(seq, label):\n",
    "    out = []\n",
    "    #array to hold the out\n",
    "    #i runs from 0 to (991 - 30)\n",
    "    for i in range(seq.shape[0] - label):\n",
    "        x = seq[i:i+label]          # 30 days in the past\n",
    "        y = seq[i+label:i+label+1]  # next day\n",
    "        out.append((x, y))\n",
    "    return out\n",
    "\n",
    "chaky_data = create_data(train_set_norm, ws)\n"
   ]
  },
  {
   "cell_type": "code",
   "execution_count": 59,
   "metadata": {},
   "outputs": [
    {
     "data": {
      "text/plain": [
       "(tensor([-0.9139, -0.9124, -0.9258, -0.9273, -0.9219, -0.9292, -0.9386, -0.9271,\n",
       "         -0.9318, -0.9456, -0.9099, -0.9228, -0.9372, -0.9776, -0.9568, -0.9455,\n",
       "         -0.9379, -0.9716, -1.0000, -0.9895, -0.9851, -0.9718, -1.0000, -0.9866,\n",
       "         -0.9919, -0.9838, -0.9880, -0.9740, -0.9673, -0.9555]),\n",
       " tensor([-0.9588]))"
      ]
     },
     "execution_count": 59,
     "metadata": {},
     "output_type": "execute_result"
    }
   ],
   "source": [
    "chaky_data[0]"
   ]
  },
  {
   "cell_type": "code",
   "execution_count": 60,
   "metadata": {},
   "outputs": [
    {
     "data": {
      "text/plain": [
       "961"
      ]
     },
     "execution_count": 60,
     "metadata": {},
     "output_type": "execute_result"
    }
   ],
   "source": [
    "len(chaky_data) # 991 - 30 = 961 --> Total days - window size = number of samples"
   ]
  },
  {
   "cell_type": "markdown",
   "metadata": {},
   "source": [
    "## 6. Neural Network\n",
    "\n",
    "A variant of RNN called LSTM, which is much more powerful.\n",
    "\n",
    "Our model will have one LSTM layer with an input size of 1 and a hidden size of 50, followed by a fully-connected layer to reduce the output to the prediction size of 1.<br>\n",
    "\n",
    "<div class=\"alert alert-info\"><strong>NOTE:</strong> You will often see the terms `input_dim` and `hidden_dim` used in place of `input_size` and `hidden_size`. They mean the same thing. We'll stick to `input_size` and `hidden_size` to stay consistent with PyTorch's built-in keywords.</div>"
   ]
  },
  {
   "cell_type": "markdown",
   "metadata": {},
   "source": [
    "### Example"
   ]
  },
  {
   "cell_type": "code",
   "execution_count": 61,
   "metadata": {},
   "outputs": [],
   "source": [
    "sample, target = chaky_data[0]"
   ]
  },
  {
   "cell_type": "code",
   "execution_count": 62,
   "metadata": {},
   "outputs": [
    {
     "data": {
      "text/plain": [
       "torch.Size([30])"
      ]
     },
     "execution_count": 62,
     "metadata": {},
     "output_type": "execute_result"
    }
   ],
   "source": [
    "sample.shape  #30 samples in a time series"
   ]
  },
  {
   "cell_type": "code",
   "execution_count": 63,
   "metadata": {},
   "outputs": [
    {
     "data": {
      "text/plain": [
       "torch.Size([1])"
      ]
     },
     "execution_count": 63,
     "metadata": {},
     "output_type": "execute_result"
    }
   ],
   "source": [
    "target.shape #this is the 31th number after the 30 samples"
   ]
  },
  {
   "cell_type": "code",
   "execution_count": 64,
   "metadata": {},
   "outputs": [],
   "source": [
    "sample_reshape = sample.reshape(sample.shape[0], 1, -1)  #(1, 30)"
   ]
  },
  {
   "cell_type": "code",
   "execution_count": 65,
   "metadata": {},
   "outputs": [],
   "source": [
    "lstm = nn.LSTM(1, 50)"
   ]
  },
  {
   "cell_type": "code",
   "execution_count": 66,
   "metadata": {},
   "outputs": [],
   "source": [
    "out, hidden = lstm(sample_reshape)  #hidden has both h and c"
   ]
  },
  {
   "cell_type": "code",
   "execution_count": 67,
   "metadata": {},
   "outputs": [
    {
     "data": {
      "text/plain": [
       "torch.Size([30, 1, 50])"
      ]
     },
     "execution_count": 67,
     "metadata": {},
     "output_type": "execute_result"
    }
   ],
   "source": [
    "out.shape #(length, batch size, hidden size)"
   ]
  },
  {
   "cell_type": "code",
   "execution_count": 68,
   "metadata": {},
   "outputs": [
    {
     "data": {
      "text/plain": [
       "torch.Size([1, 1, 50])"
      ]
     },
     "execution_count": 68,
     "metadata": {},
     "output_type": "execute_result"
    }
   ],
   "source": [
    "hidden[0].shape #(num layer, batch size, hidden size)"
   ]
  },
  {
   "cell_type": "code",
   "execution_count": 69,
   "metadata": {},
   "outputs": [],
   "source": [
    "# assert out[-1] == hidden[0]"
   ]
  },
  {
   "cell_type": "code",
   "execution_count": 70,
   "metadata": {},
   "outputs": [
    {
     "data": {
      "text/plain": [
       "torch.Size([30, 50])"
      ]
     },
     "execution_count": 70,
     "metadata": {},
     "output_type": "execute_result"
    }
   ],
   "source": [
    "out = out.view(len(out), -1)\n",
    "out.shape"
   ]
  },
  {
   "cell_type": "code",
   "execution_count": 71,
   "metadata": {},
   "outputs": [],
   "source": [
    "linear_layer = nn.Linear(50, 1)"
   ]
  },
  {
   "cell_type": "code",
   "execution_count": 72,
   "metadata": {},
   "outputs": [
    {
     "data": {
      "text/plain": [
       "torch.Size([30, 1])"
      ]
     },
     "execution_count": 72,
     "metadata": {},
     "output_type": "execute_result"
    }
   ],
   "source": [
    "out = linear_layer(out)\n",
    "out.shape"
   ]
  },
  {
   "cell_type": "markdown",
   "metadata": {},
   "source": [
    "### Network"
   ]
  },
  {
   "cell_type": "code",
   "execution_count": 73,
   "metadata": {},
   "outputs": [],
   "source": [
    "class chaky_RNN(nn.Module):\n",
    "    def __init__(self, input_s = 1, hs = 50, output_size = 1):\n",
    "        super().__init__()\n",
    "        self.hs = hs\n",
    "        self.lstm = nn.LSTM(input_s, hs)  #LSTM will automatically create W(s) for us\n",
    "        self.linear = nn.Linear(hs, output_size)  #take output of LSTM, project to prediction\n",
    "        \n",
    "    def forward(self, input_):\n",
    "        out, _ = self.lstm(input_.reshape(input_.shape[0], 1, -1)) #30, 1, 1\n",
    "        out    = self.linear(out.view(len(input_), -1))  #30, 50\n",
    "        return out[-1]"
   ]
  },
  {
   "cell_type": "code",
   "execution_count": 74,
   "metadata": {},
   "outputs": [],
   "source": [
    "torch.manual_seed(999)\n",
    "model = chaky_RNN()\n",
    "\n",
    "criterion = nn.MSELoss()\n",
    "optimizer = torch.optim.Adam(model.parameters(), lr=0.001)"
   ]
  },
  {
   "cell_type": "code",
   "execution_count": 75,
   "metadata": {},
   "outputs": [
    {
     "name": "stdout",
     "output_type": "stream",
     "text": [
      "   200\n",
      " 10000\n",
      "   200\n",
      "   200\n",
      "    50\n",
      "     1\n",
      "______\n",
      " 10651\n"
     ]
    }
   ],
   "source": [
    "def count_parameters(model):\n",
    "    params = [p.numel() for p in model.parameters() if p.requires_grad]\n",
    "    for item in params:\n",
    "        print(f'{item:>6}')\n",
    "    print(f'______\\n{sum(params):>6}')\n",
    "    \n",
    "count_parameters(model)"
   ]
  },
  {
   "cell_type": "markdown",
   "metadata": {},
   "source": [
    "## 7. Training"
   ]
  },
  {
   "cell_type": "code",
   "execution_count": 76,
   "metadata": {},
   "outputs": [
    {
     "name": "stdout",
     "output_type": "stream",
     "text": [
      "Epoch:  0 Loss: 0.01146773\n",
      "Epoch: 10 Loss: 0.00310121\n",
      "Epoch: 20 Loss: 0.00189558\n",
      "Epoch: 30 Loss: 0.00304420\n",
      "Epoch: 40 Loss: 0.00387259\n",
      "Epoch: 50 Loss: 0.00186435\n",
      "Epoch: 60 Loss: 0.00319702\n",
      "Epoch: 70 Loss: 0.00292798\n",
      "Epoch: 80 Loss: 0.00239723\n",
      "Epoch: 90 Loss: 0.00231049\n"
     ]
    }
   ],
   "source": [
    "epochs = 100\n",
    "\n",
    "for i in range(epochs):\n",
    "    \n",
    "    # tuple-unpack the chaky_data set\n",
    "    for seq, y_train in chaky_data:  \n",
    "        y_pred = model(seq)\n",
    "        loss = criterion(y_pred, y_train)\n",
    "        optimizer.zero_grad()\n",
    "        loss.backward()\n",
    "        optimizer.step()\n",
    "        \n",
    "    # print training result\n",
    "    if i % 10 == 0:\n",
    "        print(f'Epoch: {i:2} Loss: {loss.item():10.8f}')"
   ]
  },
  {
   "cell_type": "markdown",
   "metadata": {},
   "source": [
    "## 8. Testing"
   ]
  },
  {
   "cell_type": "code",
   "execution_count": 77,
   "metadata": {},
   "outputs": [],
   "source": [
    "# Prediction 1:\n",
    "# seq = [Day 961, ..., Day 990]  # Last 30 from preds\n",
    "# yhat = model(seq)  # Predicts Day 991\n",
    "# preds.append(Day 991)  # Now preds has 31 values\n",
    "\n",
    "# # Prediction 2:\n",
    "# seq = [Day 962, ..., Day 991]  # Last 30 from preds (notice Day 961 dropped)\n",
    "# yhat = model(seq)  # Predicts Day 992\n",
    "# preds.append(Day 992)  # Now preds has 32 values\n",
    "\n",
    "# # Prediction 3:\n",
    "# seq = [Day 963, ..., Day 992]  # Last 30 from preds\n",
    "# yhat = model(seq)  # Predicts Day 993\n",
    "# preds.append(Day 993)\n",
    "\n",
    "# # ... continues for 30 iterations\n",
    "\n",
    "preds = train_set_norm[-ws:].tolist()  #start with last 30 days of training,  this is the input to predict the test set\n",
    "\n",
    "model.eval()\n",
    "\n",
    "for i in range(15): #we want to predict 15 days\n",
    "    seq = torch.FloatTensor(preds[-ws:])  #the reason is because we keep appending on this, until we get 15 predictions, then compare to test set\n",
    "    with torch.no_grad():\n",
    "        yhat = model(seq)\n",
    "        preds.append(yhat.item())"
   ]
  },
  {
   "cell_type": "markdown",
   "metadata": {},
   "source": [
    "## 9. Plotting"
   ]
  },
  {
   "cell_type": "code",
   "execution_count": 78,
   "metadata": {},
   "outputs": [
    {
     "data": {
      "text/plain": [
       "(30, 1)"
      ]
     },
     "execution_count": 78,
     "metadata": {},
     "output_type": "execute_result"
    }
   ],
   "source": [
    "np.array(preds[-ws:]).reshape(-1, 1).shape"
   ]
  },
  {
   "cell_type": "markdown",
   "metadata": {},
   "source": [
    "We want to compare our test predictions to the original data, so we need to undo the previous normalization step. Note that <tt>inverse_transform</tt> uses the most recently applied parameters; we can rescale based on the test data, but not on the previous training data."
   ]
  },
  {
   "cell_type": "code",
   "execution_count": 79,
   "metadata": {},
   "outputs": [],
   "source": [
    "#1. inverse the normalization\n",
    "true_numbers = scaler.inverse_transform(np.array(preds[-ws:]).reshape(-1, 1))"
   ]
  },
  {
   "cell_type": "code",
   "execution_count": 80,
   "metadata": {},
   "outputs": [],
   "source": [
    "#2. plot\n",
    "x = df['Close'][-ws:].index"
   ]
  },
  {
   "cell_type": "code",
   "execution_count": 81,
   "metadata": {},
   "outputs": [
    {
     "data": {
      "text/plain": [
       "[<matplotlib.lines.Line2D at 0x156a258b0>]"
      ]
     },
     "execution_count": 81,
     "metadata": {},
     "output_type": "execute_result"
    },
    {
     "data": {
      "image/png": "[encoded data removed]",
      "text/plain": [
       "<Figure size 1200x400 with 1 Axes>"
      ]
     },
     "metadata": {},
     "output_type": "display_data"
    }
   ],
   "source": [
    "plt.figure(figsize=(12, 4))\n",
    "plt.grid()\n",
    "plt.plot(df['Close'])  #historical data\n",
    "plt.plot(x, true_numbers)"
   ]
  },
  {
   "cell_type": "markdown",
   "metadata": {},
   "source": [
    "## Workshop\n",
    "\n",
    "1. What is RNN and what is the essence of this model?\n",
    "2. In RNN, how many weights are there?  Which one is shared?  For example, if my sequence length is 100, how many matrix of weights I will have?  How about bias?\n",
    "3. What is the shape of $\\mathbf{x}_t$, $\\mathbf{h}_t$, $\\mathbf{W}_h$, $\\mathbf{W}_x$, $\\mathbf{b}$?\n",
    "4. Given $\\mathbf{x}_1$ of [[4], [3], [2], [1], [1]] as 5 samples in a time series data, $\\mathbf{h}_0$ as [1, 2, 3, 4, 5], $\\mathbf{W}_x$ as [[4, 3, -1, 2, 0]], $\\mathbf{W}_h$ as $$\\begin{bmatrix}\n",
    "-3 & 2 & -1 & 4 & 0 \\\\\n",
    "-1 & 1 & 0 & 2 & 0 \\\\\n",
    "3 & -2 & 1 & 1 & 5 \\\\\n",
    "-4 & 1 & -2 & 6 & -1 \\\\\n",
    "-2 & 1 & -1 & 1 & 1\n",
    "\\end{bmatrix}$$, and $\\mathbf{b}$ as [1, 1, 2, 2, 1], calculate $\\mathbf{h}_1$, $\\mathbf{h}_2$, and so on.  For simplicity, ignore the activation function.\n",
    "\n",
    "1. Btw, in above code, what is the hidden size? What is the sequence length?"
   ]
  }
 ],
 "metadata": {
  "kernelspec": {
   "display_name": "ait-ml",
   "language": "python",
   "name": "python3"
  },
  "language_info": {
   "codemirror_mode": {
    "name": "ipython",
    "version": 3
   },
   "file_extension": ".py",
   "mimetype": "text/x-python",
   "name": "python",
   "nbconvert_exporter": "python",
   "pygments_lexer": "ipython3",
   "version": "3.12.11"
  }
 },
 "nbformat": 4,
 "nbformat_minor": 2
}
